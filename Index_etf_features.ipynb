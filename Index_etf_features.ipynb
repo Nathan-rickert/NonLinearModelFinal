{
 "cells": [
  {
   "cell_type": "code",
   "execution_count": 46,
   "id": "3a7699e9-0d58-40e9-a627-6d8b9c7321c4",
   "metadata": {},
   "outputs": [],
   "source": [
    "import os\n",
    "import numpy as np\n",
    "import yfinance as yf\n",
    "import pandas as pd\n",
    "import matplotlib.pyplot as plt\n",
    "from datetime import datetime\n"
   ]
  },
  {
   "cell_type": "markdown",
   "id": "18ee3760-4a62-4f15-abc2-c63cae135fc5",
   "metadata": {},
   "source": [
    "import data "
   ]
  },
  {
   "cell_type": "code",
   "execution_count": 47,
   "id": "dbc36ae6-1bfd-47ab-bb49-84e3e6b29b28",
   "metadata": {},
   "outputs": [],
   "source": [
    "directory=\"C:/Users/chenl/market data export/\"\n",
    "file=\"QQQ_data.csv\"\n",
    "path=directory+file\n",
    "QQQ=pd.read_csv(path,parse_dates=[\"Unnamed: 0\"])\n",
    "QQQ.rename(columns={\"Unnamed: 0\":\"Date\"},inplace=True)\n",
    "QQQ.set_index(\"Date\",inplace=True)\n",
    "QQQ.index=pd.to_datetime(QQQ.index)\n",
    "\n",
    "#other index etf\n",
    "directory=\"C:/Users/chenl/market data export/\"\n",
    "file_SPY=\"SPY_data.csv\"\n",
    "file_DIA=\"DIA_data.csv\"\n",
    "file_IWM=\"IWM_data.csv\"\n",
    "\n",
    "path=directory+file_SPY\n",
    "SPY=pd.read_csv(path,parse_dates=[\"Unnamed: 0\"])\n",
    "SPY.rename(columns={\"Unnamed: 0\":\"Date\"},inplace=True)\n",
    "SPY.set_index(\"Date\",inplace=True)\n",
    "SPY.index=pd.to_datetime(SPY.index)\n",
    "\n",
    "path=directory+file_DIA\n",
    "DIA=pd.read_csv(path,parse_dates=[\"Unnamed: 0\"])\n",
    "DIA.rename(columns={\"Unnamed: 0\":\"Date\"},inplace=True)\n",
    "DIA.set_index(\"Date\",inplace=True)\n",
    "DIA.index=pd.to_datetime(DIA.index)\n",
    "\n",
    "path=directory+file_IWM\n",
    "IWM=pd.read_csv(path,parse_dates=[\"Unnamed: 0\"])\n",
    "IWM.rename(columns={\"Unnamed: 0\":\"Date\"},inplace=True)\n",
    "IWM.set_index(\"Date\",inplace=True)\n",
    "IWM.index=pd.to_datetime(IWM.index)\n",
    "\n",
    "# join table to QQQ\n",
    "QQQ = pd.merge(QQQ, SPY[['Close']], how='left', left_index=True, right_index=True, suffixes=('', '_SPY'))\n",
    "QQQ = pd.merge(QQQ, DIA[['Close']], how='left', left_index=True, right_index=True, suffixes=('', '_DIA'))\n",
    "QQQ = pd.merge(QQQ, IWM[['Close']], how='left', left_index=True, right_index=True, suffixes=('', '_IWM'))\n"
   ]
  },
  {
   "cell_type": "code",
   "execution_count": 48,
   "id": "1c4bb65d-579b-4ef2-8fb9-d6389595e4ee",
   "metadata": {},
   "outputs": [],
   "source": [
    "# create daily return\n",
    "QQQ[\"QQQ 1d movement\"]=QQQ[\"Close\"].pct_change()\n",
    "QQQ[\"SPY 1d movement\"]=QQQ[\"Close_SPY\"].pct_change()\n",
    "QQQ[\"DIA 1d movement\"]=QQQ[\"Close_DIA\"].pct_change()\n",
    "QQQ[\"IWM 1d movement\"]=QQQ[\"Close_IWM\"].pct_change()"
   ]
  },
  {
   "cell_type": "code",
   "execution_count": 49,
   "id": "31b9b28e-658a-4ead-b0a8-ba64c0933922",
   "metadata": {},
   "outputs": [
    {
     "data": {
      "text/html": [
       "<div>\n",
       "<style scoped>\n",
       "    .dataframe tbody tr th:only-of-type {\n",
       "        vertical-align: middle;\n",
       "    }\n",
       "\n",
       "    .dataframe tbody tr th {\n",
       "        vertical-align: top;\n",
       "    }\n",
       "\n",
       "    .dataframe thead th {\n",
       "        text-align: right;\n",
       "    }\n",
       "</style>\n",
       "<table border=\"1\" class=\"dataframe\">\n",
       "  <thead>\n",
       "    <tr style=\"text-align: right;\">\n",
       "      <th></th>\n",
       "      <th>Open</th>\n",
       "      <th>High</th>\n",
       "      <th>Low</th>\n",
       "      <th>Close</th>\n",
       "      <th>Adj Close</th>\n",
       "      <th>Volume</th>\n",
       "      <th>Close_SPY</th>\n",
       "      <th>Close_DIA</th>\n",
       "      <th>Close_IWM</th>\n",
       "      <th>QQQ 1d movement</th>\n",
       "      <th>SPY 1d movement</th>\n",
       "      <th>DIA 1d movement</th>\n",
       "      <th>IWM 1d movement</th>\n",
       "    </tr>\n",
       "  </thead>\n",
       "  <tbody>\n",
       "    <tr>\n",
       "      <th>count</th>\n",
       "      <td>2264.000000</td>\n",
       "      <td>2264.000000</td>\n",
       "      <td>2264.000000</td>\n",
       "      <td>2264.000000</td>\n",
       "      <td>2264.000000</td>\n",
       "      <td>2.264000e+03</td>\n",
       "      <td>2264.000000</td>\n",
       "      <td>2264.000000</td>\n",
       "      <td>2264.000000</td>\n",
       "      <td>2263.000000</td>\n",
       "      <td>2263.000000</td>\n",
       "      <td>2263.000000</td>\n",
       "      <td>2263.000000</td>\n",
       "    </tr>\n",
       "    <tr>\n",
       "      <th>mean</th>\n",
       "      <td>219.456802</td>\n",
       "      <td>221.117036</td>\n",
       "      <td>217.674267</td>\n",
       "      <td>219.520247</td>\n",
       "      <td>214.199603</td>\n",
       "      <td>4.184231e+07</td>\n",
       "      <td>312.067867</td>\n",
       "      <td>262.921188</td>\n",
       "      <td>159.250861</td>\n",
       "      <td>0.000709</td>\n",
       "      <td>0.000437</td>\n",
       "      <td>0.000397</td>\n",
       "      <td>0.000334</td>\n",
       "    </tr>\n",
       "    <tr>\n",
       "      <th>std</th>\n",
       "      <td>95.366049</td>\n",
       "      <td>96.209859</td>\n",
       "      <td>94.465896</td>\n",
       "      <td>95.396082</td>\n",
       "      <td>96.492964</td>\n",
       "      <td>2.275478e+07</td>\n",
       "      <td>86.743290</td>\n",
       "      <td>62.596477</td>\n",
       "      <td>33.670544</td>\n",
       "      <td>0.013998</td>\n",
       "      <td>0.011449</td>\n",
       "      <td>0.011373</td>\n",
       "      <td>0.014322</td>\n",
       "    </tr>\n",
       "    <tr>\n",
       "      <th>min</th>\n",
       "      <td>94.230003</td>\n",
       "      <td>97.050003</td>\n",
       "      <td>84.739998</td>\n",
       "      <td>96.320000</td>\n",
       "      <td>90.576317</td>\n",
       "      <td>7.079300e+06</td>\n",
       "      <td>182.860001</td>\n",
       "      <td>156.490005</td>\n",
       "      <td>94.790001</td>\n",
       "      <td>-0.119788</td>\n",
       "      <td>-0.109424</td>\n",
       "      <td>-0.127612</td>\n",
       "      <td>-0.132669</td>\n",
       "    </tr>\n",
       "    <tr>\n",
       "      <th>25%</th>\n",
       "      <td>131.887497</td>\n",
       "      <td>132.297501</td>\n",
       "      <td>131.422504</td>\n",
       "      <td>131.779999</td>\n",
       "      <td>125.509834</td>\n",
       "      <td>2.517672e+07</td>\n",
       "      <td>236.462502</td>\n",
       "      <td>206.907505</td>\n",
       "      <td>134.880001</td>\n",
       "      <td>-0.005137</td>\n",
       "      <td>-0.003947</td>\n",
       "      <td>-0.004030</td>\n",
       "      <td>-0.006852</td>\n",
       "    </tr>\n",
       "    <tr>\n",
       "      <th>50%</th>\n",
       "      <td>186.199997</td>\n",
       "      <td>187.595001</td>\n",
       "      <td>185.000000</td>\n",
       "      <td>186.120003</td>\n",
       "      <td>180.500938</td>\n",
       "      <td>3.636235e+07</td>\n",
       "      <td>288.870010</td>\n",
       "      <td>260.059998</td>\n",
       "      <td>155.000000</td>\n",
       "      <td>0.001135</td>\n",
       "      <td>0.000531</td>\n",
       "      <td>0.000653</td>\n",
       "      <td>0.000768</td>\n",
       "    </tr>\n",
       "    <tr>\n",
       "      <th>75%</th>\n",
       "      <td>308.477501</td>\n",
       "      <td>311.042496</td>\n",
       "      <td>305.264992</td>\n",
       "      <td>308.935013</td>\n",
       "      <td>304.310631</td>\n",
       "      <td>5.320265e+07</td>\n",
       "      <td>396.342491</td>\n",
       "      <td>328.482506</td>\n",
       "      <td>180.825005</td>\n",
       "      <td>0.007769</td>\n",
       "      <td>0.005920</td>\n",
       "      <td>0.005441</td>\n",
       "      <td>0.007930</td>\n",
       "    </tr>\n",
       "    <tr>\n",
       "      <th>max</th>\n",
       "      <td>412.670013</td>\n",
       "      <td>412.920013</td>\n",
       "      <td>410.940002</td>\n",
       "      <td>411.500000</td>\n",
       "      <td>411.500000</td>\n",
       "      <td>1.986858e+08</td>\n",
       "      <td>477.709991</td>\n",
       "      <td>377.029999</td>\n",
       "      <td>242.559998</td>\n",
       "      <td>0.084706</td>\n",
       "      <td>0.090603</td>\n",
       "      <td>0.110192</td>\n",
       "      <td>0.091491</td>\n",
       "    </tr>\n",
       "  </tbody>\n",
       "</table>\n",
       "</div>"
      ],
      "text/plain": [
       "              Open         High          Low        Close    Adj Close  \\\n",
       "count  2264.000000  2264.000000  2264.000000  2264.000000  2264.000000   \n",
       "mean    219.456802   221.117036   217.674267   219.520247   214.199603   \n",
       "std      95.366049    96.209859    94.465896    95.396082    96.492964   \n",
       "min      94.230003    97.050003    84.739998    96.320000    90.576317   \n",
       "25%     131.887497   132.297501   131.422504   131.779999   125.509834   \n",
       "50%     186.199997   187.595001   185.000000   186.120003   180.500938   \n",
       "75%     308.477501   311.042496   305.264992   308.935013   304.310631   \n",
       "max     412.670013   412.920013   410.940002   411.500000   411.500000   \n",
       "\n",
       "             Volume    Close_SPY    Close_DIA    Close_IWM  QQQ 1d movement  \\\n",
       "count  2.264000e+03  2264.000000  2264.000000  2264.000000      2263.000000   \n",
       "mean   4.184231e+07   312.067867   262.921188   159.250861         0.000709   \n",
       "std    2.275478e+07    86.743290    62.596477    33.670544         0.013998   \n",
       "min    7.079300e+06   182.860001   156.490005    94.790001        -0.119788   \n",
       "25%    2.517672e+07   236.462502   206.907505   134.880001        -0.005137   \n",
       "50%    3.636235e+07   288.870010   260.059998   155.000000         0.001135   \n",
       "75%    5.320265e+07   396.342491   328.482506   180.825005         0.007769   \n",
       "max    1.986858e+08   477.709991   377.029999   242.559998         0.084706   \n",
       "\n",
       "       SPY 1d movement  DIA 1d movement  IWM 1d movement  \n",
       "count      2263.000000      2263.000000      2263.000000  \n",
       "mean          0.000437         0.000397         0.000334  \n",
       "std           0.011449         0.011373         0.014322  \n",
       "min          -0.109424        -0.127612        -0.132669  \n",
       "25%          -0.003947        -0.004030        -0.006852  \n",
       "50%           0.000531         0.000653         0.000768  \n",
       "75%           0.005920         0.005441         0.007930  \n",
       "max           0.090603         0.110192         0.091491  "
      ]
     },
     "execution_count": 49,
     "metadata": {},
     "output_type": "execute_result"
    }
   ],
   "source": [
    "# Basic eda\n",
    "# QQQ.head()\n",
    "# QQQ.isnull().sum()\n",
    "# QQQ.info()\n",
    "QQQ.describe()\n",
    "# QQQ.index.dtype\n",
    "# QQQ[\"Close\"].plot(figsize=(20,7))\n",
    "# plt.title(\"close price\",fontsize=16)\n",
    "# plt.xlabel(\"Date\",fontsize=16)\n",
    "# plt.ylabel(\"close price\",fontsize=16)\n",
    "# plt.show()"
   ]
  },
  {
   "cell_type": "markdown",
   "id": "93af246e-ab1f-4d70-925c-afcb594df550",
   "metadata": {},
   "source": [
    "MA create"
   ]
  },
  {
   "cell_type": "code",
   "execution_count": 50,
   "id": "60cbb3f1-f6df-4b8d-b898-05dd40e629af",
   "metadata": {},
   "outputs": [],
   "source": [
    "ma4=4\n",
    "ma5=5\n",
    "ma9=9\n",
    "ma14=14\n",
    "ma18=18\n",
    "ma20=20\n",
    "ma50=50\n",
    "ma100=100\n",
    "ma200=200\n",
    "QQQ[\"9ma\"]=QQQ[\"Close\"].rolling(window=ma9,min_periods=1).mean()\n",
    "QQQ[\"20ma\"]=QQQ[\"Close\"].rolling(window=ma20,min_periods=1).mean()\n",
    "QQQ[\"50ma\"]=QQQ[\"Close\"].rolling(window=ma50,min_periods=1).mean()\n",
    "QQQ[\"100ma\"]=QQQ[\"Close\"].rolling(window=ma100,min_periods=1).mean()\n",
    "QQQ[\"200ma\"]=QQQ[\"Close\"].rolling(window=ma200,min_periods=1).mean()\n",
    "\n",
    "#volumne adjust EMA\n",
    "# QQQ['EMA_20'] = QQQ['Close'].ewm(span=20, adjust=False).mean()"
   ]
  },
  {
   "cell_type": "code",
   "execution_count": 51,
   "id": "112b98d0-c186-4cfe-bbb3-60b6d1e9eea4",
   "metadata": {},
   "outputs": [],
   "source": [
    "# 50/200 cross & triple cross"
   ]
  },
  {
   "cell_type": "code",
   "execution_count": 52,
   "id": "ab054521-1254-4f73-9d90-24d817a39583",
   "metadata": {},
   "outputs": [],
   "source": [
    "QQQ['cross'] = 'No Cross'\n",
    "startday = QQQ.index[0] + pd.Timedelta(days=60)\n",
    "# Find where the golden cross occurs\n",
    "golden_cross_indices = (QQQ['50ma'] > QQQ['200ma']) & (QQQ['50ma'].shift(1) <= QQQ['200ma'].shift(1))#create a series of True/false, bool with date as index\n",
    "QQQ.loc[golden_cross_indices&(QQQ.index>=startday), 'cross'] = 'Golden Cross'#merge the series with dataset\n",
    "\n",
    "# Find where the death cross occurs\n",
    "death_cross_indices = (QQQ['50ma'] < QQQ['200ma']) & (QQQ['50ma'].shift(1) >= QQQ['200ma'].shift(1))\n",
    "QQQ.loc[death_cross_indices&(QQQ.index>=startday),'cross'] = 'Death Cross'\n",
    "\n",
    "#cross signals 9-20-50\n",
    "QQQ['triple cross'] = 'No Cross'\n",
    "# Find where the cross occurs, 9ma always cross 20am before cross 50ma\n",
    "triplecross_indices = (\n",
    "    (QQQ['9ma'] > QQQ['50ma']) \n",
    "    &(QQQ['9ma'] > QQQ['20ma']) \n",
    "    &((QQQ[\"20ma\"]>QQQ[\"50ma\"])& (QQQ['20ma'].shift(1) <= QQQ['50ma'].shift(1))) \n",
    ")               \n",
    "#apply after 50 days of starting point\n",
    "startday = QQQ.index[0] + pd.Timedelta(days=50)\n",
    "QQQ.loc[triplecross_indices & (QQQ.index>=startday), 'triple cross'] = 'triple cross'#merge the series with dataset\n"
   ]
  },
  {
   "cell_type": "code",
   "execution_count": 53,
   "id": "79b2d390-9a76-485e-85f7-ccb92d2daf06",
   "metadata": {},
   "outputs": [],
   "source": [
    "# need convert cross or no cross into 1/0"
   ]
  },
  {
   "cell_type": "markdown",
   "id": "d8e04c5b-be42-4995-9859-6384cd584287",
   "metadata": {},
   "source": [
    "bollinger band: upper and lower bound with 2 sigma, current price away from moving average (in sigma)"
   ]
  },
  {
   "cell_type": "code",
   "execution_count": 54,
   "id": "7dee6885-1024-41f1-8a99-e9c590aeb551",
   "metadata": {},
   "outputs": [],
   "source": [
    "QQQ['Middle_BB'] = QQQ['Close'].rolling(window=20).mean()\n",
    "QQQ['Upper_BB'] = QQQ['Middle_BB'] + 2 * QQQ['Close'].rolling(window=20).std()\n",
    "QQQ['Lower_BB'] = QQQ['Middle_BB'] - 2 * QQQ['Close'].rolling(window=20).std()\n",
    "QQQ['Distance_from_Middle'] = (QQQ['Close'] - QQQ['Middle_BB']) / (QQQ['Close'].rolling(window=20).std())\n",
    "QQQ[\"Above_upperbb\"]=np.where(QQQ['Close'] > QQQ['Upper_BB'], 1, 0)\n",
    "QQQ[\"Below_lowerbb\"]=np.where(QQQ['Close'] < QQQ['Lower_BB'], 1, 0)"
   ]
  },
  {
   "cell_type": "code",
   "execution_count": null,
   "id": "fce97b74-4f4c-47e6-a2ce-e8ca2b0b1258",
   "metadata": {},
   "outputs": [],
   "source": []
  },
  {
   "cell_type": "markdown",
   "id": "6814199d-c028-477f-8059-1f9899210a2b",
   "metadata": {},
   "source": [
    "RSI: run 14day and 21day RSI, and test if current is above 70 & below 30"
   ]
  },
  {
   "cell_type": "code",
   "execution_count": 55,
   "id": "8b185cd4-08b9-4807-a562-319394b91a18",
   "metadata": {},
   "outputs": [],
   "source": [
    "delta = QQQ['Close'].diff()#absolute result\n",
    "gain = delta.where(delta > 0, 0)\n",
    "loss = -delta.where(delta < 0, 0)\n",
    "avg_gain_14d = gain.rolling(window=14).mean()\n",
    "avg_loss_14d = loss.rolling(window=14).mean()\n",
    "\n",
    "avg_gain_21d = gain.rolling(window=21).mean()\n",
    "avg_loss_21d = loss.rolling(window=21).mean()\n",
    "\n",
    "rs_14d = avg_gain_14d/ avg_loss_14d \n",
    "rs_21d = avg_gain_21d / avg_loss_21d\n",
    "\n",
    "QQQ['RSI_14d'] = 100 - (100 / (1 + rs_14d))\n",
    "QQQ['RSI_21d'] = 100 - (100 / (1 + rs_21d))\n",
    "\n",
    "QQQ[\"RSI_Above_70\"]=np.where(QQQ['RSI_21d']>70,1,0)\n",
    "QQQ[\"RSI_Below_30\"]=np.where(QQQ['RSI_21d']<30,1,0)"
   ]
  },
  {
   "cell_type": "code",
   "execution_count": null,
   "id": "c4060271-5164-4df8-a657-54083669a73d",
   "metadata": {},
   "outputs": [],
   "source": []
  },
  {
   "cell_type": "markdown",
   "id": "fb6402cc-ca9a-4873-85c9-a1c2b21ed9ee",
   "metadata": {},
   "source": [
    "MACD: generate crossing signal of MACD and Signal line, commonly use 26,12, 9 days ewm, can use longer if needed"
   ]
  },
  {
   "cell_type": "code",
   "execution_count": 56,
   "id": "c40e7b5a-a246-4989-a628-d51b6da3f941",
   "metadata": {},
   "outputs": [],
   "source": [
    "#generate line\n",
    "QQQ['MACD'] = QQQ['Close'].ewm(span=12, adjust=False).mean() - QQQ['Close'].ewm(span=26, adjust=False).mean()\n",
    "QQQ['Signal_Line'] = QQQ['MACD'].ewm(span=9, adjust=False).mean()\n",
    "#signals buy and sell\n",
    "QQQ[\"MACD_cross_above\"]=np.where((QQQ['MACD']>QQQ['Signal_Line']) & (QQQ['MACD'].shift(1) < QQQ['Signal_Line'].shift(1)),1,0 )\n",
    "QQQ[\"MACD_cross_below\"]=np.where((QQQ['MACD']<QQQ['Signal_Line']) & (QQQ['MACD'].shift(1) > QQQ['Signal_Line'].shift(1)),1,0 )"
   ]
  },
  {
   "cell_type": "code",
   "execution_count": null,
   "id": "a21e864d-bf9e-4208-afec-4b93973d7485",
   "metadata": {},
   "outputs": [],
   "source": []
  },
  {
   "cell_type": "markdown",
   "id": "40429175-eb55-4931-a319-4cdc6592c731",
   "metadata": {},
   "source": [
    "price change divergent:different in price movement %"
   ]
  },
  {
   "cell_type": "code",
   "execution_count": 57,
   "id": "9affde58-5acd-4c62-a02c-d173ba134c73",
   "metadata": {},
   "outputs": [],
   "source": [
    "QQQ[\"1m_return_diff_QQQ_IWM\"]=QQQ['Close'].pct_change(periods=30) * 100-IWM['Close'].pct_change(periods=30) * 100\n",
    "QQQ[\"1m_return_diff_QQQ_DIA\"]=QQQ['Close'].pct_change(periods=30) * 100-DIA['Close'].pct_change(periods=30) * 100\n"
   ]
  },
  {
   "cell_type": "code",
   "execution_count": null,
   "id": "fae668a9-7fb1-4372-a651-bd03d4f93ec4",
   "metadata": {},
   "outputs": [],
   "source": []
  },
  {
   "cell_type": "markdown",
   "id": "174ce5ca-a97e-4908-bf8e-5cc38cb01252",
   "metadata": {},
   "source": [
    "# target variables - select one to fit model and predict"
   ]
  },
  {
   "cell_type": "code",
   "execution_count": 58,
   "id": "8ea52e95-9caa-4120-ba91-f337e2229d18",
   "metadata": {},
   "outputs": [],
   "source": [
    "#price direction 1 stand for positive movement, -1 for negative movement\n",
    "#1mon\n",
    "QQQ['Future1M_movement_direction'] = np.where((QQQ['Close'].shift(-30) >= QQQ['Close']),1,-1)\n",
    "#2mon\n",
    "QQQ['Future2M_movement_direction'] = np.where((QQQ['Close'].shift(-60) >= QQQ['Close']),1,-1)\n",
    "#15d\n",
    "QQQ['Future15d_movement_direction'] = np.where((QQQ['Close'].shift(-15) >= QQQ['Close']),1,-1)\n",
    "\n",
    "#price change 1m\n",
    "QQQ['Future1M_movement'] = (QQQ['Close'].shift(-30)/QQQ[\"Close\"]-1 )* 100 \n",
    "#price change 2m\n",
    "QQQ['Future2M_movement'] = (QQQ['Close'].shift(-60)/QQQ[\"Close\"]-1 )* 100 \n",
    "#price change 15days\n",
    "QQQ['Future15d_movement'] = (QQQ['Close'].shift(-15)/QQQ[\"Close\"]-1 )* 100 \n",
    "\n",
    "\n"
   ]
  },
  {
   "cell_type": "markdown",
   "id": "8983f8e0-a45b-4220-aa47-630c588bf73d",
   "metadata": {},
   "source": [
    "delete some NA due"
   ]
  },
  {
   "cell_type": "code",
   "execution_count": 60,
   "id": "80988acf-48c0-4ef1-807b-a82322bf0b04",
   "metadata": {},
   "outputs": [
    {
     "data": {
      "text/plain": [
       "Index(['Open', 'High', 'Low', 'Close', 'Adj Close', 'Volume', 'Close_SPY',\n",
       "       'Close_DIA', 'Close_IWM', 'QQQ 1d movement', 'SPY 1d movement',\n",
       "       'DIA 1d movement', 'IWM 1d movement', '9ma', '20ma', '50ma', '100ma',\n",
       "       '200ma', 'cross', 'triple cross', 'Middle_BB', 'Upper_BB', 'Lower_BB',\n",
       "       'Distance_from_Middle', 'Above_upperbb', 'Below_lowerbb', 'RSI_14d',\n",
       "       'RSI_21d', 'RSI_Above_70', 'RSI_Below_30', 'MACD', 'Signal_Line',\n",
       "       'MACD_cross_above', 'MACD_cross_below', '1m_return_diff_QQQ_IWM',\n",
       "       '1m_return_diff_QQQ_DIA', 'Future1M_movement_direction',\n",
       "       'Future2M_movement_direction', 'Future15d_movement_direction',\n",
       "       'Future1M_movement', 'Future2M_movement', 'Future15d_movement'],\n",
       "      dtype='object')"
      ]
     },
     "execution_count": 60,
     "metadata": {},
     "output_type": "execute_result"
    }
   ],
   "source": [
    "QQQ.columns"
   ]
  }
 ],
 "metadata": {
  "kernelspec": {
   "display_name": "Python 3 (ipykernel)",
   "language": "python",
   "name": "python3"
  },
  "language_info": {
   "codemirror_mode": {
    "name": "ipython",
    "version": 3
   },
   "file_extension": ".py",
   "mimetype": "text/x-python",
   "name": "python",
   "nbconvert_exporter": "python",
   "pygments_lexer": "ipython3",
   "version": "3.11.7"
  }
 },
 "nbformat": 4,
 "nbformat_minor": 5
}
